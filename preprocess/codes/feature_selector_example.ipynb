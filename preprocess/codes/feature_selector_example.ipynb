{
 "cells": [
  {
   "cell_type": "code",
   "execution_count": null,
   "metadata": {},
   "outputs": [],
   "source": []
  },
  {
   "cell_type": "code",
   "execution_count": 1,
   "metadata": {},
   "outputs": [
    {
     "name": "stderr",
     "output_type": "stream",
     "text": [
      "/Library/Frameworks/Python.framework/Versions/3.6/lib/python3.6/site-packages/lightgbm/__init__.py:46: UserWarning: Starting from version 2.2.1, the library file in distribution wheels for macOS is built by the Apple Clang (Xcode_8.3.3) compiler.\n",
      "This means that in case of installing LightGBM from PyPI via the ``pip install lightgbm`` command, you don't need to install the gcc compiler anymore.\n",
      "Instead of that, you need to install the OpenMP library, which is required for running LightGBM on the system with the Apple Clang compiler.\n",
      "You can install the OpenMP library by the following command: ``brew install libomp``.\n",
      "  \"You can install the OpenMP library by the following command: ``brew install libomp``.\", UserWarning)\n"
     ]
    }
   ],
   "source": [
    "from feature_selector import FeatureSelector"
   ]
  },
  {
   "cell_type": "code",
   "execution_count": 3,
   "metadata": {},
   "outputs": [
    {
     "ename": "NameError",
     "evalue": "name 'train' is not defined",
     "output_type": "error",
     "traceback": [
      "\u001b[0;31m---------------------------------------------------------------------------\u001b[0m",
      "\u001b[0;31mNameError\u001b[0m                                 Traceback (most recent call last)",
      "\u001b[0;32m<ipython-input-3-fff1545d2d5b>\u001b[0m in \u001b[0;36m<module>\u001b[0;34m()\u001b[0m\n\u001b[1;32m      2\u001b[0m \u001b[0;31m# create an instance\u001b[0m\u001b[0;34m\u001b[0m\u001b[0;34m\u001b[0m\u001b[0m\n\u001b[1;32m      3\u001b[0m \u001b[0;31m# Features are in train and labels are in train_labels\u001b[0m\u001b[0;34m\u001b[0m\u001b[0;34m\u001b[0m\u001b[0m\n\u001b[0;32m----> 4\u001b[0;31m \u001b[0mfs\u001b[0m \u001b[0;34m=\u001b[0m \u001b[0mFeatureSelector\u001b[0m\u001b[0;34m(\u001b[0m\u001b[0mdata\u001b[0m \u001b[0;34m=\u001b[0m \u001b[0mtrain\u001b[0m\u001b[0;34m,\u001b[0m \u001b[0mlabels\u001b[0m \u001b[0;34m=\u001b[0m \u001b[0mtrain_labels\u001b[0m\u001b[0;34m)\u001b[0m\u001b[0;34m\u001b[0m\u001b[0m\n\u001b[0m\u001b[1;32m      5\u001b[0m \u001b[0;34m\u001b[0m\u001b[0m\n\u001b[1;32m      6\u001b[0m \u001b[0;31m# Find columns with a missing percentage greater than 0.6\u001b[0m\u001b[0;34m\u001b[0m\u001b[0;34m\u001b[0m\u001b[0m\n",
      "\u001b[0;31mNameError\u001b[0m: name 'train' is not defined"
     ]
    }
   ],
   "source": [
    "# train_labels equals to df.target column, train equals to original data droping the target column.\n",
    "# create an instance\n",
    "# Features are in train and labels are in train_labels\n",
    "fs = FeatureSelector(data = train, labels = train_labels)\n",
    "\n",
    "# Find columns with a missing percentage greater than 0.6\n",
    "fs.identify_missing(missing_threshold = 0.6)\n",
    "fs.missing_stats.head()\n",
    "#show the features name\n",
    "missing_features = fs.ops['missing']\n",
    "missing_features\n",
    "fs.plot_missing()\n",
    "\n",
    "# Find features with unique value\n",
    "fs.identify_single_unique()\n",
    "single_unique_features = fs.ops['single_unique']\n",
    "single_unique_features\n",
    "\n",
    "# before preprocess data, remove missing and single columns\n",
    "train_removed = fs.remove(methods = ['missing','single_unique'])"
   ]
  },
  {
   "cell_type": "markdown",
   "metadata": {},
   "source": [
    "This part should be step1.py and step2.py to preprocess data.\n",
    "data is called processed_train."
   ]
  },
  {
   "cell_type": "code",
   "execution_count": null,
   "metadata": {},
   "outputs": [],
   "source": [
    "# create another instance\n",
    "# Features are in processed_train and labels are in train_labels\n",
    "fs = FeatureSelector(data = processed_train, labels = train_labels)\n",
    "\n",
    "# Find collinear variables with a correlation greater than a specified correlation coefficient\n",
    "fs.identify_collinear(correlation_threshold = 0.98)\n",
    "collinear_features = fs.ops['collinear']\n",
    "collinear_features\n",
    "fs.plot_collinear()\n",
    "# list of collinear features to remove\n",
    "collinear_features = fs.ops['collinear']\n",
    "# dataframe of collinear features\n",
    "fs.record_collinear.head()\n",
    "\n",
    "# Find features with 0.0 feature importance from a gradient boosting machine (gbm)\n",
    "# Pass in the appropriate parameters\n",
    "fs.identify_zero_importance(task = 'classification', \n",
    "                            eval_metric = 'auc', \n",
    "                            n_iterations = 10, \n",
    "                             early_stopping = True)\n",
    "# list of zero importance features\n",
    "zero_importance_features = fs.ops['zero_importance']\n",
    "zero_importance_features\n",
    "# plot the feature importances\n",
    "fs.plot_feature_importances(threshold = 0.99, plot_n = 12)\n",
    "\n",
    "# Find low importance features that do not contribute to a specified cumulative feature importance from the gbm\n",
    "fs.identify_low_importance(cumulative_importance = 0.99)\n",
    "low_importance_features = fs.ops['low_importance']\n",
    "low_importance_features\n",
    "\n",
    "# remove collinear, zero_importance, and low_importance\n",
    "train_removed = fs.remove(methods = ['collinear', 'zero_importance', 'low_importance'])"
   ]
  },
  {
   "cell_type": "markdown",
   "metadata": {},
   "source": [
    "This part should create models like XGBoost algorithm."
   ]
  },
  {
   "cell_type": "markdown",
   "metadata": {},
   "source": [
    "Notice: test using test dataset. Before preprocess, remove_features = missing_features + single_unique_features.\n",
    "Then preprocess data. Again remove_features = low_importance_features + collinear_features + zero_importance_features\n",
    "This could guarantee train and test dataset have the same columns and the same columns order."
   ]
  },
  {
   "cell_type": "code",
   "execution_count": null,
   "metadata": {},
   "outputs": [],
   "source": []
  }
 ],
 "metadata": {
  "kernelspec": {
   "display_name": "Python 3",
   "language": "python",
   "name": "python3"
  },
  "language_info": {
   "codemirror_mode": {
    "name": "ipython",
    "version": 3
   },
   "file_extension": ".py",
   "mimetype": "text/x-python",
   "name": "python",
   "nbconvert_exporter": "python",
   "pygments_lexer": "ipython3",
   "version": "3.6.5"
  }
 },
 "nbformat": 4,
 "nbformat_minor": 2
}
